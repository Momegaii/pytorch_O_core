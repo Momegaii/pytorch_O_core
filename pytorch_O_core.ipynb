{
  "nbformat": 4,
  "nbformat_minor": 0,
  "metadata": {
    "colab": {
      "provenance": [],
      "authorship_tag": "ABX9TyOeMRf6625sOPHzl9j/czJ/",
      "include_colab_link": true
    },
    "kernelspec": {
      "name": "python3",
      "display_name": "Python 3"
    },
    "language_info": {
      "name": "python"
    }
  },
  "cells": [
    {
      "cell_type": "markdown",
      "metadata": {
        "id": "view-in-github",
        "colab_type": "text"
      },
      "source": [
        "<a href=\"https://colab.research.google.com/github/Momegaii/pytorch_O_core/blob/main/pytorch_O_core.ipynb\" target=\"_parent\"><img src=\"https://colab.research.google.com/assets/colab-badge.svg\" alt=\"Open In Colab\"/></a>"
      ]
    },
    {
      "cell_type": "markdown",
      "source": [
        "# Lesson 1: Tensors & Basic Operations"
      ],
      "metadata": {
        "id": "3kGEhbjB7Ky7"
      }
    },
    {
      "cell_type": "code",
      "execution_count": null,
      "metadata": {
        "colab": {
          "base_uri": "https://localhost:8080/"
        },
        "id": "_8mIV8cM7CAF",
        "outputId": "eabdbb86-9390-432d-fd43-dfed8aa6e7e9"
      },
      "outputs": [
        {
          "output_type": "stream",
          "name": "stdout",
          "text": [
            "torch.Size([2])\n",
            "tensor([1, 2, 3, 4, 1, 2, 3, 4, 1, 2])\n"
          ]
        }
      ],
      "source": [
        "from re import X\n",
        "import torch\n",
        "import matplotlib.pyplot as plt\n",
        "\n",
        "a = torch.tensor([1,2,3])\n",
        "\n",
        "b = torch.tensor([[4,5,6],[1,1,1]])\n",
        "\n",
        "# matrix multiplaction\n",
        "mm = torch.matmul(b,a)\n",
        "print(mm.shape)\n",
        "a.shape\n",
        "b.shape\n",
        "\n",
        "line = torch.tensor([1,2,3,4,1,2,3,4,1,2])\n",
        "line2 = torch.tensor([30,40,50,60,70,30,40,50,60,70])\n",
        "print(line)\n",
        "\n",
        "\n",
        "\n",
        "\n",
        "class Data():\n",
        "  def __init__(self)  :\n",
        "    self.x = torch.tensor([1,2,3,4,4.5,4.2,4.5,4.4,5,1,2,3,4,1,2])\n",
        "    self.y = torch.tensor([10,20,30,40,45,42,45,44,50,10,20,30,40,10,20])\n",
        "    self.x_yr = self.y *0.1 +self.x\n",
        "\n",
        "\n",
        "  def check_shape(self):\n",
        "    print(self.x.shape)\n",
        "    print(self.y.shape)\n",
        "  def vol_arr(self):\n",
        "    vol = torch.randn(15,)\n",
        "    return vol\n",
        "  def v(self):\n",
        "    vol = self.vol_arr()\n",
        "    plt.plot(self.x_yr)\n",
        "    plt.hist(vol)\n",
        "    plt.show()\n",
        "  def dv(self):\n",
        "    print(self.x.device)\n",
        "  def move_cuda(self):\n",
        "    device = torch.device('cuda' if torch.cuda.is_available() else 'cpu')\n",
        "    self.x = self.x.to(device)\n",
        "    self.y = self.y.to(device)\n",
        "    self.x_yr = self.x_yr.to(device)\n",
        "    print(\"x: ->\",self.x.device,\"/\",\"y: ->\",self.y.device,\"/\",\"xyrelate : -> \",self.x_yr.device)\n",
        "\n",
        "  def matrix_M(self):\n",
        "\n",
        "\n",
        "      print(\"-\"*70)\n",
        "      print(\"error you need an array and its not none to turn into tensors \")\n",
        "\n",
        "\n",
        "\n",
        "data = Data()"
      ]
    },
    {
      "cell_type": "code",
      "source": [
        "data.matrix_M()"
      ],
      "metadata": {
        "colab": {
          "base_uri": "https://localhost:8080/"
        },
        "id": "AYE1XB9MC2VG",
        "outputId": "32d60188-3b7b-485c-8ae6-5e7efa12ceab"
      },
      "execution_count": null,
      "outputs": [
        {
          "output_type": "stream",
          "name": "stdout",
          "text": [
            "----------------------------------------------------------------------\n",
            "error you need an array and its not none to turn into tensors \n"
          ]
        }
      ]
    },
    {
      "cell_type": "markdown",
      "source": [
        "# lesson 2 : Autograd & Backpropagation"
      ],
      "metadata": {
        "id": "2mn_iUqsEE-t"
      }
    },
    {
      "cell_type": "markdown",
      "source": [
        "Example 1 — Scalar functions, finite-difference check, higher-order derivatives, create_graph and retain_graph"
      ],
      "metadata": {
        "id": "1gHz18yz5CTY"
      }
    },
    {
      "cell_type": "code",
      "source": [
        "import torch\n",
        "\n",
        "torch.manual_seed(0)\n",
        "\n",
        "x = torch.tensor(2.0,requires_grad=True)\n",
        "y = x**3 + 2 * x**2 +3 *x+5\n",
        "\n",
        "y.backward(retain_graph=True)\n",
        "print(\"autograd dy/dx x.grad : \", x.grad.item())\n",
        "\n",
        "eps = 1e-6\n",
        "x_val = x.detach().item()\n",
        "fd = ( (x_val + eps)**3 + 2*(x_val + eps)**2 + 3*(x_val + eps) + 5\n",
        "     - ((x_val - eps)**3 + 2*(x_val - eps)**2 + 3*(x_val - eps) + 5) ) / (2*eps)\n",
        "print(\"finite  ; -> \",fd)\n",
        "\n",
        "x.grad.zero_()\n",
        "g = torch.autograd.grad(y,x,create_graph=True)[0]\n",
        "d2 = torch.autograd.grad(g,x)[0]\n",
        "print(\"d2 : \",d2.item())\n",
        "\n"
      ],
      "metadata": {
        "id": "taM-xnrbEM4t",
        "colab": {
          "base_uri": "https://localhost:8080/"
        },
        "outputId": "86348357-5940-4e67-edc8-c705cdf7c120"
      },
      "execution_count": null,
      "outputs": [
        {
          "output_type": "stream",
          "name": "stdout",
          "text": [
            "autograd dy/dx x.grad :  23.0\n",
            "finite  ; ->  23.000000000550358\n",
            "d2 :  16.0\n"
          ]
        }
      ]
    },
    {
      "cell_type": "code",
      "source": [
        "# 12. Alternatively, using backward with retain_graph to compute twice from y (not recommended routinely)\n",
        "x.grad.zero_()\n",
        "y.backward(retain_graph=True)      # allows another backward on the same graph\n",
        "first = x.grad.item()\n",
        "x.grad.zero_()\n",
        "# compute a new upstream scalar (for pedagogy) and backward again\n",
        "y.backward()\n",
        "second = x.grad.item()\n",
        "print(\"first via backward:\", first, \"second via backward:\", second)\n"
      ],
      "metadata": {
        "colab": {
          "base_uri": "https://localhost:8080/"
        },
        "id": "F_t3hMgv8cD_",
        "outputId": "b8197d8d-aa03-4caf-ae44-5d060c1f693a"
      },
      "execution_count": null,
      "outputs": [
        {
          "output_type": "stream",
          "name": "stdout",
          "text": [
            "first via backward: 23.0 second via backward: 23.0\n"
          ]
        }
      ]
    },
    {
      "cell_type": "markdown",
      "source": [
        "Example 2 — Vector outputs, Jacobians, VJP (vector–Jacobian product) and explicit Jacobian construction"
      ],
      "metadata": {
        "id": "MWzNTsOA-TCj"
      }
    },
    {
      "cell_type": "code",
      "source": [
        "import torch\n",
        "\n",
        "torch.manual_seed(0)\n",
        "\n",
        "\n",
        "x = torch.randn(3,requires_grad=True)\n",
        "\n",
        "y = torch.stack([x[0]*x[1]+torch.sin(x[2]),x[1]**2 + torch.exp(x[0])])\n",
        "\n",
        "from torch.autograd.functional import jacobian\n",
        "\n",
        "\n",
        "J = jacobian(lambda t: torch.stack([t[0]*t[1] + torch.sin(t[2]),\n",
        "                                   t[1]**2 + torch.exp(t[0])]), x)\n",
        "\n",
        "print(\"J (2x3):\\n\",J)\n",
        "\n",
        "J_manual = []\n",
        "for i in range(y.shape[0]):\n",
        "    # retain_graph because we need to compute gradient for each output\n",
        "    grad_i = torch.autograd.grad(y[i], x, retain_graph=True)[0]\n",
        "    J_manual.append(grad_i)\n",
        "J_manual = torch.stack(J_manual)  # shape [2,3]\n",
        "print(\" \")\n",
        "print(\" \")\n",
        "print(\"i stepes: \",i)\n",
        "\n",
        "print(\" \")\n",
        "print(\"J_manual:\\n\", J_manual)"
      ],
      "metadata": {
        "colab": {
          "base_uri": "https://localhost:8080/"
        },
        "id": "ajqXKck9-TtY",
        "outputId": "b3f25b32-0f42-43c8-a798-7d33d3b1bc07"
      },
      "execution_count": null,
      "outputs": [
        {
          "output_type": "stream",
          "name": "stdout",
          "text": [
            "J (2x3):\n",
            " tensor([[-0.2934,  1.5410, -0.5712],\n",
            "        [ 4.6692, -0.5869,  0.0000]])\n",
            " \n",
            " \n",
            "i stepes:  1\n",
            " \n",
            "J_manual:\n",
            " tensor([[-0.2934,  1.5410, -0.5712],\n",
            "        [ 4.6692, -0.5869,  0.0000]])\n"
          ]
        }
      ]
    },
    {
      "cell_type": "markdown",
      "source": [
        "the above are not good for nn.modules ingeneral (advanced ones) but the next example : ex3 is the best for the **utilities** that we need in @O% changing lines"
      ],
      "metadata": {
        "id": "dRjwWJZUCdJy"
      }
    },
    {
      "cell_type": "markdown",
      "source": [
        "Example 3 — Small MLP: forward, manual backward derivation, compare with autograd, and Hessian-vector product via create_graph"
      ],
      "metadata": {
        "id": "GAo4TpmjCqvt"
      }
    },
    {
      "cell_type": "code",
      "source": [
        "import torch\n",
        "torch.manual_seed(0)\n",
        "\n",
        "# 1. small dataset (batch_size=4, input_dim=2)\n",
        "X = torch.randn(4, 2)\n",
        "y_true = torch.randn(4, 1)   # regression targets\n",
        "\n",
        "# 2. model params — use raw tensors (not nn.Linear) so formulas are clear\n",
        "in_dim, hid_dim, out_dim = 2, 3, 1\n",
        "W1 = torch.randn(hid_dim, in_dim, requires_grad=True)  # weight matrix of layer1 (out, in)\n",
        "b1 = torch.zeros(hid_dim, requires_grad=True)          # bias1 (hid,)\n",
        "W2 = torch.randn(out_dim, hid_dim, requires_grad=True) # weight matrix of layer2 (out, hid)\n",
        "b2 = torch.zeros(out_dim, requires_grad=True)          # bias2 (out,)\n",
        "\n",
        "# 3. forward (vectorized over batch)\n",
        "z1 = X @ W1.T + b1           # shape (4, 3)  ; X (4,2) @ W1.T (2,3) -> (4,3)\n",
        "a1 = torch.relu(z1)          # element-wise ReLU, shape (4,3)\n",
        "z2 = a1 @ W2.T + b2          # shape (4,1)\n",
        "y_pred = z2                  # final predictions\n",
        "\n",
        "# 4. MSE loss\n",
        "N = X.shape[0]\n",
        "loss = ((y_pred - y_true)**2).mean()   # scalar\n",
        "\n",
        "# 5. autograd compute gradients\n",
        "loss.backward()              # populates W1.grad, b1.grad, W2.grad, b2.grad\n",
        "\n",
        "# 6. stash autograd grads for comparison\n",
        "autograd_grads = {\n",
        "    'dW2': W2.grad.clone(),\n",
        "    'db2': b2.grad.clone(),\n",
        "    'dW1': W1.grad.clone(),\n",
        "    'db1': b1.grad.clone()\n",
        "}\n",
        "\n",
        "# 7. manual gradients via matrix calculus (no autograd; use .detach() to avoid tracking)\n",
        "with torch.no_grad():\n",
        "    # detach everything used to compute hand-derived quantities\n",
        "    Xd = X.detach()\n",
        "    yd = y_true.detach()\n",
        "    z1d = z1.detach()\n",
        "    a1d = a1.detach()\n",
        "    W2d = W2.detach()\n",
        "\n",
        "# 8. derivative of loss wrt y_pred: dL/dy = 2*(y_pred - y_true)/N   shape (4,1)\n",
        "dL_dy = 2.0 * (y_pred.detach() - yd) / N\n",
        "\n",
        "# 9. gradients for W2 and b2:\n",
        "#    dL/dW2 = (dL/dy)^T @ a1  -> shape (1,3) matches W2 shape\n",
        "dW2_manual = dL_dy.T @ a1d            # (1,4) @ (4,3) -> (1,3)\n",
        "db2_manual = dL_dy.sum(dim=0)         # (1,) sum over batch\n",
        "\n",
        "# 10. backprop into hidden activations: dL/da1 = (dL/dy) @ W2  -> (4,1) @ (1,3) -> (4,3)\n",
        "dL_da1 = dL_dy @ W2d                  # shape (4,3)\n",
        "\n",
        "# 11. through ReLU: dL/dz1 = dL/da1 * (z1 > 0).float()\n",
        "drelu = (z1d > 0).float()\n",
        "dL_dz1 = dL_da1 * drelu               # element-wise\n",
        "\n",
        "# 12. gradients for W1 and b1: dL/dW1 = (dL/dz1)^T @ X\n",
        "dW1_manual = dL_dz1.T @ Xd            # (3,4) @ (4,2) -> (3,2)\n",
        "db1_manual = dL_dz1.sum(dim=0)        # (3,)\n",
        "\n",
        "# 13. compare autograd vs manual (should be very close)\n",
        "print(\"max abs diff dW2:\", (autograd_grads['dW2'] - dW2_manual).abs().max().item())\n",
        "print(\"max abs diff db2:\", (autograd_grads['db2'] - db2_manual).abs().max().item())\n",
        "print(\"max abs diff dW1:\", (autograd_grads['dW1'] - dW1_manual).abs().max().item())\n",
        "print(\"max abs diff db1:\", (autograd_grads['db1'] - db1_manual).abs().max().item())\n",
        "\n",
        "# 14. Hessian-vector product example: compute H·v where H is Hessian of loss wrt flattened parameters\n",
        "from torch.autograd.functional import hvp\n",
        "params = (W1, b1, W2, b2)\n",
        "# build a function mapping params -> loss\n",
        "def flat_loss(*ps):\n",
        "    W1p, b1p, W2p, b2p = ps\n",
        "    z1p = X @ W1p.T + b1p\n",
        "    a1p = torch.relu(z1p)\n",
        "    z2p = a1p @ W2p.T + b2p\n",
        "    return ((z2p - y_true)**2).mean()\n",
        "\n",
        "# 15. pick a vector v with same shapes as params\n",
        "v = (torch.randn_like(W1), torch.randn_like(b1), torch.randn_like(W2), torch.randn_like(b2))\n",
        "\n",
        "# 16. compute hvp (H·v) — returns tuple of tensors matching params\n",
        "hvp_result = hvp(flat_loss, params, v=v)[1]\n",
        "print(\"HVP shapes:\", [t.shape for t in hvp_result])\n"
      ],
      "metadata": {
        "colab": {
          "base_uri": "https://localhost:8080/"
        },
        "id": "0d4qP5yTCmi4",
        "outputId": "04ce3ac1-d5a3-4bc1-b9a9-b80501e2e8de"
      },
      "execution_count": null,
      "outputs": [
        {
          "output_type": "stream",
          "name": "stdout",
          "text": [
            "max abs diff dW2: 0.0\n",
            "max abs diff db2: 0.0\n",
            "max abs diff dW1: 0.0\n",
            "max abs diff db1: 0.0\n",
            "HVP shapes: [torch.Size([3, 2]), torch.Size([3]), torch.Size([1, 3]), torch.Size([1])]\n"
          ]
        }
      ]
    },
    {
      "cell_type": "markdown",
      "source": [
        "Lesson 3: Autograd Mechanics & Intermediate Functions (PyTorch A–Z)"
      ],
      "metadata": {
        "id": "DakasZnCJ6LW"
      }
    },
    {
      "cell_type": "code",
      "source": [
        "import torch\n",
        "\n",
        "# 1. Create tensor with gradient tracking\n",
        "x = torch.tensor(2.0, requires_grad=True)\n",
        "\n",
        "# 2. Define a simple function y = x^2 + 3x\n",
        "y = x**2 + 3*x\n",
        "\n",
        "# 3. Compute gradient (dy/dx)\n",
        "y.backward()\n",
        "\n",
        "# 4. Access gradient\n",
        "print(x.grad)\n"
      ],
      "metadata": {
        "id": "spUO8TkTJ72L"
      },
      "execution_count": null,
      "outputs": []
    },
    {
      "cell_type": "code",
      "source": [
        "import torch\n",
        "\n",
        "a = torch.tensor(3.0, requires_grad=True)\n",
        "b = torch.tensor(4.0, requires_grad=True)\n",
        "\n",
        "z = a * b + a**2  # z = ab + a^2\n",
        "\n",
        "z.backward()  # Compute gradients\n",
        "\n",
        "print(a.grad)  # dz/da = b + 2a = 4 + 6 = 10\n",
        "print(b.grad)  # dz/db = a = 3\n"
      ],
      "metadata": {
        "id": "1zKiaj47J9cJ"
      },
      "execution_count": null,
      "outputs": []
    },
    {
      "cell_type": "code",
      "source": [
        "import torch\n",
        "\n",
        "x = torch.tensor(1.0, requires_grad=True)\n",
        "y = x**3 + 2*x**2\n",
        "\n",
        "# First backward pass\n",
        "y.backward(retain_graph=True)  # Keep graph for further grads\n",
        "print(x.grad)  # dy/dx = 3x^2 + 4x => 3*1 + 4*1 = 7\n",
        "\n",
        "# Zero gradient before next pass\n",
        "x.grad.zero_()\n",
        "\n",
        "# Second backward pass with new function\n",
        "z = y**2\n",
        "z.backward()\n",
        "print(x.grad)  # dz/dx = 2*y * dy/dx = 2*(1^3 + 2*1^2) * 7 = 2*3*7 = 42\n"
      ],
      "metadata": {
        "id": "v2VXpoN1J-w9"
      },
      "execution_count": null,
      "outputs": []
    },
    {
      "cell_type": "markdown",
      "source": [
        "Lesson 4: Building Neural Networks in PyTorch"
      ],
      "metadata": {
        "id": "-FlNRoiOKCQK"
      }
    },
    {
      "cell_type": "code",
      "source": [
        "# Code Example 1 – Minimal Fully Connected Network\n",
        "import torch\n",
        "import torch.nn as nn\n",
        "import torch.optim as opt\n",
        "\n",
        "class SimpleNet(nn.Module):\n",
        "  def __init__(self):\n",
        "    super(SimpleNet,self).__init__()\n",
        "    self.fc1 = nn.Linear(10,5)\n",
        "    self.fc2= nn.Linear(5,1)\n",
        "\n",
        "  def forward(self,x):\n",
        "    x = torch.relu(self.fc1(x))\n",
        "    x = self.fc2(x)\n",
        "    return x\n",
        "\n",
        "nns = SimpleNet()\n",
        "opt = opt.SGD(nns.parameters(),lr=0.01)\n",
        "\n",
        "criterion = nn.MSELoss()\n",
        "\n",
        "\n",
        "x = torch.randn(1,10)\n",
        "y = torch.randn(1,1)\n",
        "\n",
        "ot = nns(x)\n",
        "loss = criterion(ot,y)\n",
        "loss.backward()\n",
        "opt.step()\n",
        "opt.zero_grad()\n",
        "\n"
      ],
      "metadata": {
        "id": "d_YtHAX7KHCc"
      },
      "execution_count": null,
      "outputs": []
    },
    {
      "cell_type": "code",
      "source": [
        "# Code Example 2 – Sequential API\n",
        "\n",
        "import torch\n",
        "import torch.nn as nn\n",
        "import torch.optim as opt\n",
        "\n",
        "\n",
        "\n",
        "net = nn.Sequential(\n",
        "    nn.Linear(10,5),\n",
        "    nn.ReLU(),\n",
        "    nn.Linear(5,1)\n",
        ")\n",
        "\n",
        "\n",
        "x = torch.randn(1,10)\n",
        "\n",
        "net(x)"
      ],
      "metadata": {
        "colab": {
          "base_uri": "https://localhost:8080/"
        },
        "id": "HGDWa5_9-zdM",
        "outputId": "885b732a-a1af-4519-c6c6-abab6301b0be"
      },
      "execution_count": null,
      "outputs": [
        {
          "output_type": "execute_result",
          "data": {
            "text/plain": [
              "tensor([[-0.4288]], grad_fn=<AddmmBackward0>)"
            ]
          },
          "metadata": {},
          "execution_count": 6
        }
      ]
    },
    {
      "cell_type": "markdown",
      "source": [
        "they are all good the above but the best thing to learn is the nex example"
      ],
      "metadata": {
        "id": "kGlP3UOLAtF_"
      }
    },
    {
      "cell_type": "code",
      "source": [
        "# Code Example 3 – Multiple Hidden Layers with Dropout\n",
        "\n",
        "class DeepNet(nn.Module):\n",
        "  def __init__(self):\n",
        "    super(DeepNet,self).__init__()\n",
        "    self.fc1 = nn.Linear(20,64)\n",
        "    self.fc2 = nn.Linear(64,32)\n",
        "    self.dpt = nn.Dropout(0.5)\n",
        "    self.fc3 = nn.Linear(32,1)\n",
        "  def forward(self,x):\n",
        "    x = torch.relu(self.fc1(x))\n",
        "    x = self.dpt(torch.relu(self.fc2(x)))\n",
        "    return self.fc3(x)\n",
        "\n",
        "\n",
        "torch.manual_seed(1)\n",
        "dn = DeepNet()\n",
        "x = torch.randn(1,20)\n",
        "\n",
        "dn(x)\n"
      ],
      "metadata": {
        "colab": {
          "base_uri": "https://localhost:8080/"
        },
        "id": "2u1Mlhc3A3FF",
        "outputId": "b74e4c83-0561-4163-fa58-7147d9bc9c23"
      },
      "execution_count": null,
      "outputs": [
        {
          "output_type": "execute_result",
          "data": {
            "text/plain": [
              "tensor([[0.0927]], grad_fn=<AddmmBackward0>)"
            ]
          },
          "metadata": {},
          "execution_count": 29
        }
      ]
    },
    {
      "cell_type": "markdown",
      "source": [
        "# note"
      ],
      "metadata": {
        "id": "KY8t-Bs1DEy7"
      }
    },
    {
      "cell_type": "markdown",
      "source": [
        "1. WHAT MAKES A NEURAL NETWORK GOOD?\n",
        "\n",
        "A \"good\" NN:\n",
        "\n",
        "Learns patterns from data effectively.\n",
        "\n",
        "Generalizes well to unseen data.\n",
        "\n",
        "Produces predictions with high accuracy and low error.\n",
        "\n",
        "Key Factors:\n",
        "\n",
        "Good Data Quality\n",
        "\n",
        "Clean, labeled, diverse dataset.\n",
        "\n",
        "Balanced class representation (for classification).\n",
        "\n",
        "Enough examples to cover variations.\n",
        "\n",
        "Proper Architecture\n",
        "\n",
        "Right number of layers and neurons.\n",
        "\n",
        "Suitable activation functions.\n",
        "\n",
        "Proper regularization (Dropout, L2 penalty) to prevent overfitting.\n",
        "\n",
        "Effective Training\n",
        "\n",
        "Proper learning rate (too high → unstable, too low → slow/poor convergence).\n",
        "\n",
        "Well-tuned optimizer (Adam, SGD with momentum, RMSprop).\n",
        "\n",
        "Enough epochs but not too many (avoid underfitting/overfitting).\n",
        "\n",
        "Generalization Ability\n",
        "\n",
        "Performance remains high on validation and test data, not just training.\n",
        "\n",
        "Small gap between training and test accuracy.\n",
        "\n",
        "Good Loss Curve\n",
        "\n",
        "Loss should steadily decrease during training.\n",
        "\n",
        "No large oscillations or sudden jumps.\n",
        "\n",
        "2. WHAT MAKES A NEURAL NETWORK BAD?\n",
        "\n",
        "A \"bad\" NN:\n",
        "\n",
        "Memorizes training data (overfitting) or fails to learn (underfitting).\n",
        "\n",
        "Poor accuracy on test data.\n",
        "\n",
        "Shows unstable or divergent training.\n",
        "\n",
        "Signs of a Bad NN\n",
        "\n",
        "High training accuracy but low test accuracy → overfitting.\n",
        "\n",
        "Low training accuracy and low test accuracy → underfitting.\n",
        "\n",
        "Exploding or vanishing gradients.\n",
        "\n",
        "Loss does not decrease significantly over time.\n",
        "\n",
        "3. VISUAL INDICATORS\n",
        "\n",
        "Imagine three loss curves during training:\n",
        "\n",
        "Good NN: Loss curve goes down smoothly and flattens at a low value.\n",
        "\n",
        "Overfitting NN: Training loss goes down, but validation loss goes up after some point.\n",
        "\n",
        "Underfitting NN: Both training and validation loss stay high.\n",
        "\n",
        "4. METRICS THAT DEFINE A GOOD NN\n",
        "\n",
        "Accuracy, Precision, Recall, F1-score (for classification)\n",
        "\n",
        "MSE, RMSE, MAE (for regression)\n",
        "\n",
        "Confusion Matrix – helps analyze prediction quality.\n",
        "\n",
        "ROC-AUC – shows how well it separates classes."
      ],
      "metadata": {
        "id": "QpnSk-WtDA9C"
      }
    },
    {
      "cell_type": "markdown",
      "source": [
        "# Lesson 5 : Loss Functions & Optimization in PyTorch"
      ],
      "metadata": {
        "id": "q4bEJ7CYDJCR"
      }
    },
    {
      "cell_type": "code",
      "source": [
        "#Code 1: Simple Regression with MSELoss\n",
        "\n",
        "import torch\n",
        "import torch.nn as nn\n",
        "import torch.optim as optim\n",
        "\n",
        "#data :\n",
        "\n",
        "x = torch.randn(100,1)\n",
        "y = 3 * x + 2 + torch.randn(100,1)* 0.5\n",
        "\n",
        "#Model\n",
        "model = nn.Linear(1,1)\n",
        "\n",
        "loss_fn = nn.MSELoss()\n",
        "optimizer =  optim.SGD(model.parameters(),lr=0.01)\n",
        "\n",
        "for epoch in range(100):\n",
        "  optimizer.zero_grad()\n",
        "  y_pred= model(x)\n",
        "  loss = loss_fn(y_pred,y)\n",
        "  loss.backward()\n",
        "  optimizer.step()\n",
        "print(\"epoch step change : == \",epoch, \"loss : \",loss.item())"
      ],
      "metadata": {
        "colab": {
          "base_uri": "https://localhost:8080/"
        },
        "id": "a9JeRUU5C6lD",
        "outputId": "9c72a4b5-b95b-4d73-a093-be5758d63f71"
      },
      "execution_count": null,
      "outputs": [
        {
          "output_type": "stream",
          "name": "stdout",
          "text": [
            "epoch step change : ==  99 loss :  0.4705426096916199\n"
          ]
        }
      ]
    },
    {
      "cell_type": "code",
      "source": [
        "# Code 2: Classification with CrossEntropyLoss\n",
        "\n",
        "import torch\n",
        "import torch.nn as nn\n",
        "import torch.optim as optim\n",
        "\n",
        "torch.manual_seed(5)\n",
        "\n",
        "x = torch.randn(100,2)\n",
        "y = torch.randint(0,2,(100,))\n",
        "\n",
        "model = nn.Linear(2,2)\n",
        "\n",
        "loss_fn = nn.CrossEntropyLoss()\n",
        "opt  = optim.Adam(model.parameters(),lr= 0.01)\n",
        "\n",
        "Epoch = 300\n",
        "\n",
        "for epoch in range(Epoch):\n",
        "  opt.zero_grad()\n",
        "  y_pred= model(x)\n",
        "  loss = loss_fn(y_pred,y)\n",
        "  loss.backward()\n",
        "  opt.step()\n",
        "loss.item()"
      ],
      "metadata": {
        "colab": {
          "base_uri": "https://localhost:8080/"
        },
        "id": "pIJjoqlIKcXy",
        "outputId": "797400b8-c58e-48c6-abce-ffa52b5134af"
      },
      "execution_count": null,
      "outputs": [
        {
          "output_type": "execute_result",
          "data": {
            "text/plain": [
              "0.6553151607513428"
            ]
          },
          "metadata": {},
          "execution_count": 88
        }
      ]
    },
    {
      "cell_type": "code",
      "source": [
        "# Code 3: Custom Loss (Huber Loss)\n",
        "\n",
        "# huber loss is used mostly in regrassors :::\n",
        "\n",
        "class HuberLoss(nn.Module):\n",
        "  def __init__(self,delta=1.0):\n",
        "    super(HuberLoss,self).__init__()\n",
        "    self.delta= delta\n",
        "  def forward(self,y_true,y_pred):\n",
        "    error = y_true - y_pred\n",
        "    abs_err = torch.abs(error)\n",
        "    quadra = torch.clamp(abs_err, max=self.delta)\n",
        "    linear = abs_err - quadra\n",
        "    return torch.mean(0.5*quadra**2+self.delta*linear)\n",
        "\n",
        "loss_fn = HuberLoss(delta=1.0)\n",
        "y_true = torch.tensor([2.0, 3.0])\n",
        "y_pred = torch.tensor([2.5, 2.8])\n",
        "print(loss_fn(y_pred, y_true))"
      ],
      "metadata": {
        "colab": {
          "base_uri": "https://localhost:8080/"
        },
        "collapsed": true,
        "id": "voH5mBagMoB9",
        "outputId": "01964a38-b610-4e22-89bd-2eeac6c9a5f4"
      },
      "execution_count": null,
      "outputs": [
        {
          "output_type": "stream",
          "name": "stdout",
          "text": [
            "tensor(0.0725)\n"
          ]
        }
      ]
    },
    {
      "cell_type": "markdown",
      "source": [
        "# Lesson 6: Weight Initialization & Model Stability"
      ],
      "metadata": {
        "id": "J4KmoqbFRChi"
      }
    },
    {
      "cell_type": "markdown",
      "source": [
        "***Common Initialization Methods***"
      ],
      "metadata": {
        "id": "DRP0qhENUfLp"
      }
    },
    {
      "cell_type": "code",
      "source": [
        "# zero initialization Method : _>\n",
        "\n",
        "# All weights start at zero → all neurons learn the same thing (symmetry problem).\n",
        "\n",
        "## Not used in practice.##\n",
        "\n",
        "\n",
        "for layer in model.children():\n",
        "  if hasattr(layer,'weight'):\n",
        "    torch.nn.init.zeros_(layer.weight)\n",
        "\n",
        "\n",
        "# RandoM normal / uniform : _>\n",
        "\n",
        "# small random break symmetry but scaling is important ..\n",
        "\n",
        "normal = torch.nn.init.normal_(layer.weight,mean=0.0,std=0.01)\n",
        "uniform = torch.nn.init.uniform_(layer.weight,a=-0.1,b=0.1)\n",
        "\n",
        "# xavier very important intialzation : _ ->\n",
        "#Designed to keep variance consistent across layers.\n",
        "#Good for tanh or sigmoid activations.\n",
        "\n",
        "xavier = torch.nn.init.xavier_uniform_(layer.weight)\n",
        "\n",
        "# He intial : -> so important for transformers heads\n",
        "\n",
        "he = torch.nn.init.kaiming_uniform_(layer.weight, nonlinearity='relu')\n",
        "\n",
        "# for the bias 3. Bias Initialization\n",
        "\n",
        "#Often initialized to small constant (e.g., 0.01) to avoid dead neurons in ReLU networks.\n",
        "bias = 0.01 # mostly"
      ],
      "metadata": {
        "id": "l4AOdHZqRAjg"
      },
      "execution_count": null,
      "outputs": []
    },
    {
      "cell_type": "markdown",
      "source": [
        " Example: Applying Xavier/He Initialization"
      ],
      "metadata": {
        "id": "O6ymITEaWrcN"
      }
    },
    {
      "cell_type": "code",
      "source": [
        "import torch\n",
        "import torch.nn as nn\n",
        "\n",
        "class SimpleNet(nn.Module):\n",
        "  def __init__(self):\n",
        "    super(SimpleNet,self).__init__()\n",
        "    self.fc1 = nn.Linear(10,5)\n",
        "    self.fc2 = nn.Linear(5,1)\n",
        "     # bcs it is relu this is good to use He intialization\n",
        "    for layer in [self.fc1,self.fc2]:\n",
        "      torch.nn.init.kaiming_uniform_(layer.weight,nonlinearity='relu')\n",
        "      torch.nn.init.constant_(layer.bias,0.01)\n",
        "\n",
        "\n",
        "  def forward(self,x):\n",
        "    x = torch.relu(self.fc1(x))\n",
        "    x = self.fc2(x)\n",
        "    return x\n",
        "\n",
        "\n",
        "\n"
      ],
      "metadata": {
        "id": "O5acDjvxWr1b"
      },
      "execution_count": null,
      "outputs": []
    },
    {
      "cell_type": "code",
      "source": [
        "import torch\n",
        "import torch.nn as nn\n",
        "import matplotlib.pyplot as plt\n",
        "\n",
        "# Parameters\n",
        "input_size = 1000\n",
        "hidden_size = 256\n",
        "layers = 5\n",
        "batch_size = 16\n",
        "\n",
        "# Simple feedforward network factory\n",
        "def make_network(init_type=None):\n",
        "    layers_list = []\n",
        "    for i in range(layers):\n",
        "        lin = nn.Linear(input_size if i==0 else hidden_size, hidden_size)\n",
        "        # Apply initialization\n",
        "        if init_type == 'xavier':\n",
        "            nn.init.xavier_uniform_(lin.weight)\n",
        "        elif init_type == 'he':\n",
        "            nn.init.kaiming_uniform_(lin.weight, nonlinearity='relu')\n",
        "        # No init means PyTorch default\n",
        "        layers_list.append(lin)\n",
        "        layers_list.append(nn.ReLU())\n",
        "    return nn.Sequential(*layers_list)\n",
        "\n",
        "# Generate random input\n",
        "x = torch.randn(batch_size, input_size)\n",
        "\n",
        "# Track gradient norms\n",
        "def compute_grad_norms(init_type=None):\n",
        "    model = make_network(init_type)\n",
        "    x.requires_grad = True\n",
        "    out = model(x)\n",
        "    loss = out.sum()\n",
        "    loss.backward()\n",
        "    norms = [p.grad.norm().item() for p in model.parameters() if p.grad is not None]\n",
        "    return norms\n",
        "\n",
        "# Compute for each initialization\n",
        "no_init_norms = compute_grad_norms(None)\n",
        "xavier_norms = compute_grad_norms('xavier')\n",
        "he_norms = compute_grad_norms('he')\n",
        "\n",
        "# Plot\n",
        "plt.figure(figsize=(8,5))\n",
        "plt.plot(no_init_norms, label='No Init (Default)', marker='o')\n",
        "plt.plot(xavier_norms, label='Xavier Init', marker='o')\n",
        "plt.plot(he_norms, label='He Init', marker='o')\n",
        "plt.xlabel(\"Layer Index * 2 (Weight + Bias)\")\n",
        "plt.ylabel(\"Gradient Norm\")\n",
        "plt.title(\"Exploding/Vanishing Gradients by Initialization Method\")\n",
        "plt.legend()\n",
        "plt.grid(True)\n",
        "plt.show()\n"
      ],
      "metadata": {
        "colab": {
          "base_uri": "https://localhost:8080/",
          "height": 487
        },
        "id": "wZKJjZutYsrj",
        "outputId": "6e8329ab-aaab-4040-a0b3-b2a85dbf1da1"
      },
      "execution_count": null,
      "outputs": [
        {
          "output_type": "display_data",
          "data": {
            "text/plain": [
              "<Figure size 800x500 with 1 Axes>"
            ],
            "image/png": "[encoded data removed]"
          },
          "metadata": {}
        }
      ]
    },
    {
      "cell_type": "markdown",
      "source": [
        "# Lesson 7: Batch Normalization & Layer Normalization"
      ],
      "metadata": {
        "id": "5ceJcu3ja7qi"
      }
    },
    {
      "cell_type": "code",
      "source": [],
      "metadata": {
        "id": "2QdkhBlfa_HE"
      },
      "execution_count": null,
      "outputs": []
    }
  ]
}